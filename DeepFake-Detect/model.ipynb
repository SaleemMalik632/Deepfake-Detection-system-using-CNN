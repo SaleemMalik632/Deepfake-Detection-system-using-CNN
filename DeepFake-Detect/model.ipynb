{
 "cells": [
  {
   "cell_type": "markdown",
   "metadata": {},
   "source": [
    "# Import Libraries and Set Constants\n"
   ]
  },
  {
   "cell_type": "code",
   "execution_count": 9,
   "metadata": {},
   "outputs": [
    {
     "name": "stdout",
     "output_type": "stream",
     "text": [
      "TensorFlow version:  2.14.0\n"
     ]
    }
   ],
   "source": [
    "import os\n",
    "import shutil\n",
    "import pandas as pd\n",
    "import matplotlib.pyplot as plt\n",
    "import tensorflow as tf\n",
    "from keras.preprocessing.image import ImageDataGenerator\n",
    "from tensorflow.keras import backend as K \n",
    "from tensorflow.keras.models import Sequential, load_model\n",
    "from tensorflow.keras.layers import Dense, Dropout\n",
    "from tensorflow.keras.optimizers import Adam\n",
    "from tensorflow.keras.callbacks import EarlyStopping, ModelCheckpoint\n",
    "from efficientnet.tfkeras import EfficientNetB0\n",
    "\n",
    "# Set TensorFlow version\n",
    "print('TensorFlow version: ', tf.__version__)\n",
    "\n",
    "# Set dataset paths\n",
    "dataset_path = 'D:\\Github\\A-6th\\CVIP Project\\Deepfake-Detection-system-using-CNN\\DeepFake-Detect\\VerySmallData'\n",
    "tmp_debug_path = './tmp_debug'\n",
    "checkpoint_filepath = './tmp_checkpoint'\n",
    "\n",
    "# Create directories if they don't exist\n",
    "os.makedirs(tmp_debug_path, exist_ok=True)\n",
    "os.makedirs(checkpoint_filepath, exist_ok=True)\n",
    "\n",
    "# Function to extract filename without extension\n",
    "def get_filename_only(file_path):\n",
    "    file_basename = os.path.basename(file_path) \n",
    "    filename_only = file_basename.split('.')[0]\n",
    "    return filename_only\n",
    "\n",
    "# Set parameters\n",
    "input_size = 128\n",
    "batch_size_num = 32\n",
    "num_epochs = 20\n"
   ]
  },
  {
   "cell_type": "markdown",
   "metadata": {},
   "source": [
    "# Data Preparation and Augmentation"
   ]
  },
  {
   "cell_type": "code",
   "execution_count": 10,
   "metadata": {},
   "outputs": [
    {
     "name": "stdout",
     "output_type": "stream",
     "text": [
      "Found 16 images belonging to 2 classes.\n",
      "Found 2 images belonging to 2 classes.\n"
     ]
    },
    {
     "name": "stdout",
     "output_type": "stream",
     "text": [
      "Found 4 images belonging to 2 classes.\n"
     ]
    }
   ],
   "source": [
    "# Data generators\n",
    "train_datagen = ImageDataGenerator(\n",
    "    rescale=1/255,\n",
    "    rotation_range=10,\n",
    "    width_shift_range=0.1,\n",
    "    height_shift_range=0.1,\n",
    "    shear_range=0.2,\n",
    "    zoom_range=0.1,\n",
    "    horizontal_flip=True,\n",
    "    fill_mode='nearest'\n",
    ")\n",
    "\n",
    "val_datagen = ImageDataGenerator(rescale=1/255)\n",
    "test_datagen = ImageDataGenerator(rescale=1/255)\n",
    "\n",
    "train_generator = train_datagen.flow_from_directory(\n",
    "    directory= os.path.join(dataset_path, 'train'),\n",
    "    target_size=(input_size, input_size),\n",
    "    color_mode=\"rgb\",\n",
    "    class_mode=\"binary\",\n",
    "    batch_size=batch_size_num,\n",
    "    shuffle=True,\n",
    "    save_to_dir=tmp_debug_path\n",
    ")\n",
    "\n",
    "val_generator = val_datagen.flow_from_directory(\n",
    "    directory= os.path.join(dataset_path, 'val'),\n",
    "    target_size=(input_size, input_size),\n",
    "    color_mode=\"rgb\",\n",
    "    class_mode=\"binary\",\n",
    "    batch_size=batch_size_num,\n",
    "    shuffle=True,\n",
    "    save_to_dir=tmp_debug_path\n",
    ")\n",
    "\n",
    "test_generator = test_datagen.flow_from_directory(\n",
    "    directory=os.path.join(dataset_path, 'test'),\n",
    "    classes=['real', 'fake'],\n",
    "    target_size=(input_size, input_size),\n",
    "    color_mode=\"rgb\",\n",
    "    class_mode=None,\n",
    "    batch_size=1,\n",
    "    shuffle=False\n",
    ")\n"
   ]
  },
  {
   "cell_type": "markdown",
   "metadata": {},
   "source": [
    "# Model Construction and Training"
   ]
  },
  {
   "cell_type": "code",
   "execution_count": 11,
   "metadata": {},
   "outputs": [
    {
     "name": "stderr",
     "output_type": "stream",
     "text": [
      "WARNING:absl:`lr` is deprecated in Keras optimizer, please use `learning_rate` or use the legacy optimizer, e.g.,tf.keras.optimizers.legacy.Adam.\n",
      "C:\\Users\\SONIC LAPTOPS\\AppData\\Local\\Temp\\ipykernel_8860\\3867817507.py:38: UserWarning: `Model.fit_generator` is deprecated and will be removed in a future version. Please use `Model.fit`, which supports generators.\n",
      "  history = model.fit_generator(\n"
     ]
    },
    {
     "name": "stdout",
     "output_type": "stream",
     "text": [
      "Epoch 1/20\n",
      "1/1 [==============================] - ETA: 0s - loss: 1.1376 - accuracy: 0.5625\n",
      "Epoch 1: val_loss improved from inf to 1.25185, saving model to ./tmp_checkpoint\\best_model.h5\n"
     ]
    },
    {
     "name": "stderr",
     "output_type": "stream",
     "text": [
      "c:\\Users\\SONIC LAPTOPS\\AppData\\Local\\Programs\\Python\\Python311\\Lib\\site-packages\\keras\\src\\engine\\training.py:3079: UserWarning: You are saving your model as an HDF5 file via `model.save()`. This file format is considered legacy. We recommend using instead the native Keras format, e.g. `model.save('my_model.keras')`.\n",
      "  saving_api.save_model(\n"
     ]
    },
    {
     "name": "stdout",
     "output_type": "stream",
     "text": [
      "1/1 [==============================] - 28s 28s/step - loss: 1.1376 - accuracy: 0.5625 - val_loss: 1.2519 - val_accuracy: 0.5000\n",
      "Epoch 2/20\n",
      "1/1 [==============================] - ETA: 0s - loss: 2.5945 - accuracy: 0.5000\n",
      "Epoch 2: val_loss improved from 1.25185 to 0.51384, saving model to ./tmp_checkpoint\\best_model.h5\n",
      "1/1 [==============================] - 2s 2s/step - loss: 2.5945 - accuracy: 0.5000 - val_loss: 0.5138 - val_accuracy: 1.0000\n",
      "Epoch 3/20\n",
      "1/1 [==============================] - ETA: 0s - loss: 0.1524 - accuracy: 0.9375\n",
      "Epoch 3: val_loss did not improve from 0.51384\n",
      "1/1 [==============================] - 2s 2s/step - loss: 0.1524 - accuracy: 0.9375 - val_loss: 1.0624 - val_accuracy: 0.5000\n",
      "Epoch 4/20\n",
      "1/1 [==============================] - ETA: 0s - loss: 1.0269 - accuracy: 0.7500\n",
      "Epoch 4: val_loss did not improve from 0.51384\n",
      "1/1 [==============================] - 2s 2s/step - loss: 1.0269 - accuracy: 0.7500 - val_loss: 0.8490 - val_accuracy: 0.5000\n",
      "Epoch 5/20\n",
      "1/1 [==============================] - ETA: 0s - loss: 0.0331 - accuracy: 1.0000\n",
      "Epoch 5: val_loss did not improve from 0.51384\n",
      "1/1 [==============================] - 2s 2s/step - loss: 0.0331 - accuracy: 1.0000 - val_loss: 0.5410 - val_accuracy: 0.5000\n",
      "Epoch 6/20\n",
      "1/1 [==============================] - ETA: 0s - loss: 0.0013 - accuracy: 1.0000\n",
      "Epoch 6: val_loss improved from 0.51384 to 0.31661, saving model to ./tmp_checkpoint\\best_model.h5\n",
      "1/1 [==============================] - 3s 3s/step - loss: 0.0013 - accuracy: 1.0000 - val_loss: 0.3166 - val_accuracy: 1.0000\n",
      "Epoch 7/20\n",
      "1/1 [==============================] - ETA: 0s - loss: 0.0019 - accuracy: 1.0000\n",
      "Epoch 7: val_loss improved from 0.31661 to 0.19501, saving model to ./tmp_checkpoint\\best_model.h5\n",
      "1/1 [==============================] - 3s 3s/step - loss: 0.0019 - accuracy: 1.0000 - val_loss: 0.1950 - val_accuracy: 1.0000\n",
      "Epoch 8/20\n",
      "1/1 [==============================] - ETA: 0s - loss: 1.6721e-05 - accuracy: 1.0000\n",
      "Epoch 8: val_loss improved from 0.19501 to 0.14307, saving model to ./tmp_checkpoint\\best_model.h5\n",
      "1/1 [==============================] - 2s 2s/step - loss: 1.6721e-05 - accuracy: 1.0000 - val_loss: 0.1431 - val_accuracy: 1.0000\n",
      "Epoch 9/20\n",
      "1/1 [==============================] - ETA: 0s - loss: 0.0018 - accuracy: 1.0000\n",
      "Epoch 9: val_loss improved from 0.14307 to 0.12521, saving model to ./tmp_checkpoint\\best_model.h5\n",
      "1/1 [==============================] - 2s 2s/step - loss: 0.0018 - accuracy: 1.0000 - val_loss: 0.1252 - val_accuracy: 1.0000\n",
      "Epoch 10/20\n",
      "1/1 [==============================] - ETA: 0s - loss: 8.5249e-04 - accuracy: 1.0000\n",
      "Epoch 10: val_loss did not improve from 0.12521\n",
      "1/1 [==============================] - 2s 2s/step - loss: 8.5249e-04 - accuracy: 1.0000 - val_loss: 0.1280 - val_accuracy: 1.0000\n",
      "Epoch 11/20\n",
      "1/1 [==============================] - ETA: 0s - loss: 0.0264 - accuracy: 1.0000\n",
      "Epoch 11: val_loss improved from 0.12521 to 0.11474, saving model to ./tmp_checkpoint\\best_model.h5\n",
      "1/1 [==============================] - 2s 2s/step - loss: 0.0264 - accuracy: 1.0000 - val_loss: 0.1147 - val_accuracy: 1.0000\n",
      "Epoch 12/20\n",
      "1/1 [==============================] - ETA: 0s - loss: 1.6617e-04 - accuracy: 1.0000\n",
      "Epoch 12: val_loss did not improve from 0.11474\n",
      "1/1 [==============================] - 1s 1s/step - loss: 1.6617e-04 - accuracy: 1.0000 - val_loss: 0.1223 - val_accuracy: 1.0000\n",
      "Epoch 13/20\n",
      "1/1 [==============================] - ETA: 0s - loss: 4.4595e-04 - accuracy: 1.0000\n",
      "Epoch 13: val_loss did not improve from 0.11474\n",
      "1/1 [==============================] - 2s 2s/step - loss: 4.4595e-04 - accuracy: 1.0000 - val_loss: 0.1484 - val_accuracy: 1.0000\n",
      "Epoch 14/20\n",
      "1/1 [==============================] - ETA: 0s - loss: 1.5513e-04 - accuracy: 1.0000\n",
      "Epoch 14: val_loss did not improve from 0.11474\n",
      "1/1 [==============================] - 2s 2s/step - loss: 1.5513e-04 - accuracy: 1.0000 - val_loss: 0.1751 - val_accuracy: 1.0000\n",
      "Epoch 15/20\n",
      "1/1 [==============================] - ETA: 0s - loss: 0.1343 - accuracy: 0.9375\n",
      "Epoch 15: val_loss did not improve from 0.11474\n",
      "1/1 [==============================] - 2s 2s/step - loss: 0.1343 - accuracy: 0.9375 - val_loss: 0.3784 - val_accuracy: 0.5000\n",
      "Epoch 16/20\n",
      "1/1 [==============================] - ETA: 0s - loss: 2.1409e-06 - accuracy: 1.0000\n",
      "Epoch 16: val_loss did not improve from 0.11474\n",
      "1/1 [==============================] - 2s 2s/step - loss: 2.1409e-06 - accuracy: 1.0000 - val_loss: 0.6853 - val_accuracy: 0.5000\n",
      "Epoch 16: early stopping\n"
     ]
    }
   ],
   "source": [
    "# Base model\n",
    "efficient_net = EfficientNetB0(\n",
    "    weights='imagenet',\n",
    "    input_shape=(input_size, input_size, 3),\n",
    "    include_top=False,\n",
    "    pooling='max'\n",
    ")\n",
    "\n",
    "# Model architecture\n",
    "model = Sequential()\n",
    "model.add(efficient_net)\n",
    "model.add(Dense(units=512, activation='relu'))\n",
    "model.add(Dropout(0.5))\n",
    "model.add(Dense(units=128, activation='relu'))\n",
    "model.add(Dense(units=1, activation='sigmoid'))\n",
    "\n",
    "# Compile model\n",
    "model.compile(optimizer=Adam(lr=0.0001), loss='binary_crossentropy', metrics=['accuracy'])\n",
    "\n",
    "# Define callbacks for training\n",
    "custom_callbacks = [\n",
    "    EarlyStopping(\n",
    "        monitor='val_loss',\n",
    "        mode='min',\n",
    "        patience=5,\n",
    "        verbose=1\n",
    "    ),\n",
    "    ModelCheckpoint(\n",
    "        filepath=os.path.join(checkpoint_filepath, 'best_model.h5'),\n",
    "        monitor='val_loss',\n",
    "        mode='min',\n",
    "        verbose=1,\n",
    "        save_best_only=True\n",
    "    )\n",
    "]\n",
    "\n",
    "# Train model\n",
    "history = model.fit_generator(\n",
    "    train_generator,\n",
    "    epochs=num_epochs,\n",
    "    steps_per_epoch=len(train_generator),\n",
    "    validation_data=val_generator,\n",
    "    validation_steps=len(val_generator),\n",
    "    callbacks=custom_callbacks,\n",
    ")\n"
   ]
  },
  {
   "cell_type": "markdown",
   "metadata": {},
   "source": [
    "# Model Evaluation and Prediction"
   ]
  },
  {
   "cell_type": "code",
   "execution_count": 12,
   "metadata": {},
   "outputs": [
    {
     "name": "stdout",
     "output_type": "stream",
     "text": [
      "4/4 [==============================] - 2s 32ms/step\n",
      "Result After prediction =                       Filename  Prediction Label\n",
      "0  real\\abarnvbtwb-000-00.png    0.500375  Real\n",
      "1  real\\abarnvbtwb-002-00.png    0.940016  Real\n",
      "2  fake\\aagfhgtpmv-009-00.png    0.127975  Fake\n",
      "3  fake\\aapnvogymq-004-01.png    0.000825  Fake\n",
      "Results saved to predictions.csv\n"
     ]
    }
   ],
   "source": [
    "# Load best model\n",
    "best_model = load_model(os.path.join(checkpoint_filepath, 'best_model.h5'))\n",
    "\n",
    "# Generate predictions\n",
    "test_generator.reset()\n",
    "preds = best_model.predict(\n",
    "    test_generator,\n",
    "    verbose=1\n",
    ")\n",
    "test_results = pd.DataFrame({\n",
    "    \"Filename\": test_generator.filenames,\n",
    "    \"Prediction\": preds.flatten()\n",
    "}) \n",
    "\n",
    "# Add 'Label' column\n",
    "test_results['Label'] = test_results['Prediction'].apply(lambda x: 'Real' if x > 0.5 else 'Fake')\n",
    "\n",
    "print('Result After prediction = ',test_results)\n",
    "\n",
    "# Save the results to a CSV file\n",
    "test_results.to_csv('predictions1.csv', index=False)\n",
    "\n",
    "print('Results saved to predictions.csv')\n"
   ]
  }
 ],
 "metadata": {
  "kernelspec": {
   "display_name": "Python 3",
   "language": "python",
   "name": "python3"
  },
  "language_info": {
   "codemirror_mode": {
    "name": "ipython",
    "version": 3
   },
   "file_extension": ".py",
   "mimetype": "text/x-python",
   "name": "python",
   "nbconvert_exporter": "python",
   "pygments_lexer": "ipython3",
   "version": "3.11.4"
  }
 },
 "nbformat": 4,
 "nbformat_minor": 2
}
